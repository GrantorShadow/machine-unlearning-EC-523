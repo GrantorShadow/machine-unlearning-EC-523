{
 "cells": [
  {
   "cell_type": "code",
   "execution_count": 43,
   "metadata": {},
   "outputs": [],
   "source": [
    "import numpy as np\n",
    "from tqdm import tqdm\n",
    "\n",
    "class args:\n",
    "    distribution = 'uniform'\n",
    "    shards = 5\n",
    "    requests = 62\n",
    "\n",
    "datasetfile = {\n",
    "    \"nb_train\": 249215,\n",
    "    \"nb_test\": 62304,\n",
    "    \"input_shape\": [600],\n",
    "    \"nb_classes\": 2,\n",
    "    \"dataloader\": \"dataloader\"\n",
    "}\n",
    "\n",
    "def mass(index):\n",
    "    if args.distribution.split(\":\")[0] == \"exponential\":\n",
    "        lbd = (\n",
    "            float(args.distribution.split(\":\")[1])\n",
    "            if len(args.distribution.split(\":\")) > 1\n",
    "            else -np.log(0.05) / datasetfile[\"nb_train\"]\n",
    "            )\n",
    "        return np.exp(-lbd * index) - np.exp(-lbd * (index + 1))\n",
    "    if args.distribution.split(\":\")[0] == \"pareto\":\n",
    "        a = (\n",
    "            float(args.distribution.split(\":\")[1])\n",
    "            if len(args.distribution.split(\":\")) > 1\n",
    "            else 1.16\n",
    "            )\n",
    "        return a / ((index + 1) ** (a + 1))"
   ]
  },
  {
   "cell_type": "code",
   "execution_count": 44,
   "metadata": {},
   "outputs": [],
   "source": [
    "if args.shards != None:\n",
    "    # If distribution is uniform, split without optimizing.\n",
    "    if args.distribution == \"uniform\":\n",
    "        partition = np.split(\n",
    "            np.arange(0, datasetfile[\"nb_train\"]),\n",
    "            [\n",
    "                t * (datasetfile[\"nb_train\"] // args.shards)\n",
    "                for t in range(1, args.shards)\n",
    "            ],\n",
    "        )\n",
    "        #np.save(\"containers/{}/splitfile.npy\".format(args.container), partition)\n",
    "        #requests = np.array([[] for _ in range(args.shards)])\n",
    "        #np.save(\n",
    "        #    \"containers/{}/requestfile:{}.npy\".format(args.container, args.label),\n",
    "        #    requests,\n",
    "        #)\n",
    "\n",
    "    # Else run PLS-GAP algorithm to find a low cost split.\n",
    "    else:\n",
    "        print(\"DEBUG: chkpt 1\")\n",
    "        def mass(index):\n",
    "            if args.distribution.split(\":\")[0] == \"exponential\":\n",
    "                lbd = (\n",
    "                    float(args.distribution.split(\":\")[1])\n",
    "                    if len(args.distribution.split(\":\")) > 1\n",
    "                    else -np.log(0.05) / datasetfile[\"nb_train\"]\n",
    "                )\n",
    "                return np.exp(-lbd * index) - np.exp(-lbd * (index + 1))\n",
    "            if args.distribution.split(\":\")[0] == \"pareto\":\n",
    "                a = (\n",
    "                    float(args.distribution.split(\":\")[1])\n",
    "                    if len(args.distribution.split(\":\")) > 1\n",
    "                    else 1.16\n",
    "                )\n",
    "                return a / ((index + 1) ** (a + 1))\n",
    "\n",
    "        if args.shards != None:\n",
    "            # Initialize queue and partition.\n",
    "            weights = mass(np.arange(0, datasetfile[\"nb_train\"]))\n",
    "            indices = np.argsort(weights)\n",
    "            queue = np.array([weights[indices], np.ones(weights.shape)]).transpose()\n",
    "            partition = [np.array([index]) for index in indices]\n",
    "            print(\"DEBUG: chkpt 2\")\n",
    "\n",
    "            # Put all points in the top queue.\n",
    "            bottom_queue = queue.shape[0]  # pylint: disable=unsubscriptable-object\n",
    "            #lim = (\n",
    "            #    int(float(args.algo.split(\":\")[1]) * datasetfile[\"nb_train\"])\n",
    "            #    if len(args.algo.split(\":\")) > 1\n",
    "            #    else int(0.01 * datasetfile[\"nb_train\"])\n",
    "            #)\n",
    "            lim = (\n",
    "                 int(0.01 * datasetfile[\"nb_train\"])\n",
    "            )\n",
    "\n",
    "            for _ in tqdm(range(datasetfile[\"nb_train\"] - args.shards)):\n",
    "                # Fetch top 2 clusters and merge them.\n",
    "                w1 = queue[0]\n",
    "                w2 = queue[1]\n",
    "\n",
    "                l1 = partition[0]\n",
    "                l2 = partition[1]\n",
    "\n",
    "                partition = partition[2:]\n",
    "                queue = queue[2:]\n",
    "                bottom_queue -= 2\n",
    "\n",
    "                merged_weight = w1 + w2\n",
    "\n",
    "                # If merged cluster is smaller in number of points than the limit, insert it in top queue.\n",
    "                if merged_weight[1] < lim:\n",
    "                    # Top queue is ordered first by number of points (weight[1]) and second by cost (weight[0]).\n",
    "                    offset_array = np.where(queue[:bottom_queue, 1] >= merged_weight[1])\n",
    "                    limit_array = np.where(queue[:bottom_queue, 1] > merged_weight[1])\n",
    "                    offset = (\n",
    "                        offset_array[0][0]\n",
    "                        if offset_array[0].shape[0] > 0\n",
    "                        else bottom_queue\n",
    "                    )\n",
    "                    limit = (\n",
    "                        limit_array[0][0]\n",
    "                        if limit_array[0].shape[0] > 0\n",
    "                        else bottom_queue\n",
    "                    )\n",
    "                    position_array = np.where(\n",
    "                        queue[offset:limit][:, 0] >= merged_weight[0]\n",
    "                    )\n",
    "                    position = (\n",
    "                        position_array[0][0]\n",
    "                        if position_array[0].shape[0] > 0\n",
    "                        else bottom_queue\n",
    "                    )\n",
    "                    bottom_queue += 1\n",
    "\n",
    "                # Otherwise insert it in the bottom queue.\n",
    "                else:\n",
    "                    # Bottom queue is ordered by cost only.\n",
    "                    position_array = np.where(\n",
    "                        queue[bottom_queue:][:, 0] >= merged_weight[0]\n",
    "                    )\n",
    "                    position = (\n",
    "                        position_array[0][0]\n",
    "                        if position_array[0].shape[0] > 0\n",
    "                        else queue.shape[0]\n",
    "                    )\n",
    "\n",
    "                # Actual insertion.\n",
    "                queue = np.insert(queue, position, merged_weight, axis=0)\n",
    "                partition = (\n",
    "                    partition[:position]\n",
    "                    + [np.concatenate((l1, l2))]\n",
    "                    + partition[position:]\n",
    "                )\n",
    "            \n",
    "            #partition = np.array(partition)\n",
    "            #print(\"DEBUG: chkpt 3, converted partition to np array\")\n",
    "            # Generate splitfile and empty request file.\n",
    "            #np.save(\"containers/{}/splitfile.npy\".format(args.container), partition)\n",
    "            #requests = np.array([[] for _ in range(partition.shape[0])])\n",
    "            #np.save(\n",
    "            #    \"containers/{}/requestfile:{}.npy\".format(args.container, args.label),\n",
    "            #    requests,\n",
    "            #)"
   ]
  },
  {
   "cell_type": "code",
   "execution_count": 18,
   "metadata": {},
   "outputs": [
    {
     "data": {
      "text/plain": [
       "[array([0, 1, 2, 3, 4]),\n",
       " array([5, 6, 7, 8, 9]),\n",
       " array([10, 11, 12, 13, 14]),\n",
       " array([15, 16, 17, 18, 19]),\n",
       " array([20, 21, 22, 23, 24]),\n",
       " array([25, 26, 27, 28, 29]),\n",
       " array([30, 31, 32, 33, 34]),\n",
       " array([35, 36, 37, 38, 39]),\n",
       " array([40, 41, 42, 43, 44]),\n",
       " array([45, 46, 47, 48, 49]),\n",
       " array([50, 51, 52, 53, 54]),\n",
       " array([55, 56, 57, 58, 59]),\n",
       " array([60, 61, 62, 63, 64]),\n",
       " array([65, 66, 67, 68, 69]),\n",
       " array([70, 71, 72, 73, 74]),\n",
       " array([75, 76, 77, 78, 79]),\n",
       " array([80, 81, 82, 83, 84]),\n",
       " array([85, 86, 87, 88, 89]),\n",
       " array([90, 91, 92, 93, 94]),\n",
       " array([95, 96, 97, 98, 99])]"
      ]
     },
     "execution_count": 18,
     "metadata": {},
     "output_type": "execute_result"
    }
   ],
   "source": [
    "\n",
    "partition # uniform"
   ]
  },
  {
   "cell_type": "code",
   "execution_count": 14,
   "metadata": {},
   "outputs": [
    {
     "name": "stdout",
     "output_type": "stream",
     "text": [
      "[1.16000000e+00 2.59557271e-01 1.08112542e-01 5.80775661e-02\n",
      " 3.58659864e-02 2.41908589e-02 1.73398854e-02 1.29952194e-02\n",
      " 1.00761394e-02 8.02523926e-03 6.53205434e-03 5.41285630e-03\n",
      " 4.55344765e-03 3.87990804e-03 3.34272670e-03 2.90776180e-03\n",
      " 2.55086996e-03 2.25459935e-03 2.00608907e-03 1.79569759e-03\n",
      " 1.61608542e-03 1.46158810e-03 1.32777921e-03 1.21116052e-03\n",
      " 1.10893878e-03 1.01886245e-03 9.39100904e-04 8.68153742e-04\n",
      " 8.04782110e-04 7.47956049e-04 6.96813780e-04 6.50629928e-04\n",
      " 6.08790517e-04 5.70773141e-04 5.36131116e-04 5.04480737e-04\n",
      " 4.75490961e-04 4.48875002e-04 4.24383449e-04 4.01798590e-04\n",
      " 3.80929721e-04 3.61609242e-04 3.43689390e-04 3.27039498e-04\n",
      " 3.11543690e-04 2.97098920e-04 2.83613315e-04 2.71004758e-04\n",
      " 2.59199677e-04 2.48132002e-04 2.37742272e-04 2.27976860e-04\n",
      " 2.18787301e-04 2.10129713e-04 2.01964287e-04 1.94254841e-04\n",
      " 1.86968439e-04 1.80075041e-04 1.73547213e-04 1.67359854e-04\n",
      " 1.61489967e-04 1.55916451e-04 1.50619916e-04 1.45582524e-04\n",
      " 1.40787838e-04 1.36220694e-04 1.31867088e-04 1.27714068e-04\n",
      " 1.23749643e-04 1.19962697e-04 1.16342919e-04 1.12880727e-04\n",
      " 1.09567212e-04 1.06394083e-04 1.03353612e-04 1.00438595e-04\n",
      " 9.76423050e-05 9.49584566e-05 9.23811729e-05 8.99049528e-05\n",
      " 8.75246431e-05 8.52354127e-05 8.30327286e-05 8.09123344e-05\n",
      " 7.88702304e-05 7.69026551e-05 7.50060687e-05 7.31771376e-05\n",
      " 7.14127200e-05 6.97098533e-05 6.80657418e-05 6.64777454e-05\n",
      " 6.49433699e-05 6.34602568e-05 6.20261752e-05 6.06390133e-05\n",
      " 5.92967708e-05 5.79975524e-05 5.67395607e-05 5.55210907e-05]\n"
     ]
    },
    {
     "data": {
      "text/plain": [
       "[array([27, 26], dtype=int64),\n",
       " array([37, 36, 35, 34], dtype=int64),\n",
       " array([25, 24], dtype=int64),\n",
       " array([49, 48, 47, 46, 33, 32], dtype=int64),\n",
       " array([79, 78, 77, 76, 75, 74, 99, 98, 97, 96, 95, 94, 93, 92, 91, 90, 89,\n",
       "        88, 87, 86, 85, 84, 83, 82, 81, 80, 51, 50], dtype=int64),\n",
       " array([23, 22], dtype=int64),\n",
       " array([45, 44, 43, 42, 31, 30], dtype=int64),\n",
       " array([21, 20], dtype=int64),\n",
       " array([29, 28, 41, 40, 39, 38], dtype=int64),\n",
       " array([59, 58, 57, 56, 55, 54, 53, 52, 65, 64, 63, 62, 61, 60, 67, 66, 73,\n",
       "        72, 71, 70, 69, 68], dtype=int64),\n",
       " array([19, 18], dtype=int64),\n",
       " array([17, 16], dtype=int64),\n",
       " array([15, 14], dtype=int64),\n",
       " array([13, 12], dtype=int64),\n",
       " array([11, 10], dtype=int64),\n",
       " array([9, 8], dtype=int64),\n",
       " array([7, 6], dtype=int64),\n",
       " array([5, 4], dtype=int64),\n",
       " array([3, 2], dtype=int64),\n",
       " array([1, 0], dtype=int64)]"
      ]
     },
     "execution_count": 14,
     "metadata": {},
     "output_type": "execute_result"
    }
   ],
   "source": [
    "#print([len(i) for i in partition]) # pareto\n",
    "\n",
    "print(weights)\n",
    "partition"
   ]
  },
  {
   "cell_type": "code",
   "execution_count": 26,
   "metadata": {},
   "outputs": [
    {
     "data": {
      "text/plain": [
       "array([199357, 199358, 199359, 199360, 199361, 199362, 199363, 199364,\n",
       "       199365, 199366, 199367, 199368, 199369, 199370, 199371])"
      ]
     },
     "execution_count": 26,
     "metadata": {},
     "output_type": "execute_result"
    }
   ],
   "source": [
    "partition[3][-15:]"
   ]
  },
  {
   "cell_type": "code",
   "execution_count": 45,
   "metadata": {},
   "outputs": [],
   "source": [
    "partition = np.array(partition)\n",
    "\n",
    "num_requests = args.requests  # Replace with your desired number of requests\n",
    "\n",
    "# Get the total number of elements in the subarrays\n",
    "total_elements = sum(len(subarray) for subarray in partition)\n",
    "\n",
    "# Calculate the number of elements to take from each subarray\n",
    "elements_per_subarray = num_requests // len(partition)\n",
    "\n",
    "# Initialize the list to store the requests\n",
    "all_requests = []\n",
    "\n",
    "# Iterate over the subarrays and append elements from the end to the requests list\n",
    "for subarray in partition:\n",
    "    all_requests.extend(subarray[-elements_per_subarray:])\n",
    "\n",
    "# If there are remaining requests, add them from the last subarray\n",
    "remaining_requests = num_requests - len(all_requests)\n",
    "if remaining_requests != 0:\n",
    "    all_requests.extend(partition[-1][-remaining_requests:])"
   ]
  },
  {
   "cell_type": "code",
   "execution_count": 46,
   "metadata": {},
   "outputs": [],
   "source": [
    "#all_requests = np.random.randint(0, datasetfile[\"nb_train\"], args.requests)\n",
    "requests = []\n",
    "# Divide up the new requests among the shards.\n",
    "for shard in range(partition.shape[0]):\n",
    "    requests.append(np.intersect1d(partition[shard], all_requests))"
   ]
  },
  {
   "cell_type": "code",
   "execution_count": 47,
   "metadata": {},
   "outputs": [
    {
     "data": {
      "text/plain": [
       "[array([49831, 49832, 49833, 49834, 49835, 49836, 49837, 49838, 49839,\n",
       "        49840, 49841, 49842]),\n",
       " array([99674, 99675, 99676, 99677, 99678, 99679, 99680, 99681, 99682,\n",
       "        99683, 99684, 99685]),\n",
       " array([149517, 149518, 149519, 149520, 149521, 149522, 149523, 149524,\n",
       "        149525, 149526, 149527, 149528]),\n",
       " array([199360, 199361, 199362, 199363, 199364, 199365, 199366, 199367,\n",
       "        199368, 199369, 199370, 199371]),\n",
       " array([249203, 249204, 249205, 249206, 249207, 249208, 249209, 249210,\n",
       "        249211, 249212, 249213, 249214])]"
      ]
     },
     "execution_count": 47,
     "metadata": {},
     "output_type": "execute_result"
    }
   ],
   "source": [
    "requests"
   ]
  },
  {
   "cell_type": "code",
   "execution_count": 33,
   "metadata": {},
   "outputs": [
    {
     "name": "stdout",
     "output_type": "stream",
     "text": [
      "[2, 4, 2, 2, 4, 2, 2, 4, 2, 2, 4, 2, 2, 4, 8, 2, 2, 4, 16, 30]\n",
      "[0.02951305 0.02864203 0.02779672 0.02697635 0.0261802  0.02540754\n",
      " 0.02465768 0.02392996 0.02322371 0.02253831 0.02187314 0.02122759\n",
      " 0.0206011  0.0199931  0.01940304 0.0188304  0.01827466 0.01773532\n",
      " 0.0172119  0.01670392 0.01621094 0.0157325  0.01526819 0.01481758\n",
      " 0.01438026 0.01395586 0.01354398 0.01314426 0.01275633 0.01237985\n",
      " 0.01201448 0.0116599  0.01131578 0.01098182 0.01065771 0.01034317\n",
      " 0.01003791 0.00974166 0.00945415 0.00917513 0.00890435 0.00864155\n",
      " 0.00838651 0.008139   0.0078988  0.00766568 0.00743944 0.00721988\n",
      " 0.0070068  0.00680001 0.00659932 0.00640455 0.00621553 0.0060321\n",
      " 0.00585407 0.0056813  0.00551363 0.0053509  0.00519298 0.00503972\n",
      " 0.00489098 0.00474663 0.00460655 0.00447059 0.00433865 0.00421061\n",
      " 0.00408634 0.00396574 0.0038487  0.00373511 0.00362488 0.00351789\n",
      " 0.00341407 0.00331331 0.00321553 0.00312063 0.00302853 0.00293914\n",
      " 0.0028524  0.00276822 0.00268652 0.00260723 0.00253029 0.00245561\n",
      " 0.00238314 0.0023128  0.00224454 0.0021783  0.00211401 0.00205162\n",
      " 0.00199107 0.00193231 0.00187528 0.00181994 0.00176622 0.0017141\n",
      " 0.00166351 0.00161441 0.00156677 0.00152053]\n"
     ]
    }
   ],
   "source": [
    "partition = np.array(partition)\n",
    "print(\"DEBUG: chkpt 3, converted partition to np array\")\n",
    "# Generate splitfile and empty request file.\n",
    "np.save(\"containers/{}/splitfile.npy\".format(args.container), partition)\n",
    "requests = np.array([[] for _ in range(partition.shape[0])])\n",
    "np.save(\n",
    "    \"containers/{}/requestfile:{}.npy\".format(args.container, args.label),\n",
    "    requests,\n",
    ")\n",
    "\n",
    "# todo:\n",
    "# partition has all the training indices arranged into each shard. We just have to make a requestfile \n",
    "# from the uniform that has all requests divided uniformly at the last slice\n"
   ]
  },
  {
   "cell_type": "code",
   "execution_count": 19,
   "metadata": {},
   "outputs": [
    {
     "data": {
      "text/plain": [
       "[array([27, 26], dtype=int64),\n",
       " array([37, 36, 35, 34], dtype=int64),\n",
       " array([25, 24], dtype=int64),\n",
       " array([49, 48, 47, 46, 33, 32], dtype=int64),\n",
       " array([79, 78, 77, 76, 75, 74, 99, 98, 97, 96, 95, 94, 93, 92, 91, 90, 89,\n",
       "        88, 87, 86, 85, 84, 83, 82, 81, 80, 51, 50], dtype=int64),\n",
       " array([23, 22], dtype=int64),\n",
       " array([45, 44, 43, 42, 31, 30], dtype=int64),\n",
       " array([21, 20], dtype=int64),\n",
       " array([29, 28, 41, 40, 39, 38], dtype=int64),\n",
       " array([59, 58, 57, 56, 55, 54, 53, 52, 65, 64, 63, 62, 61, 60, 67, 66, 73,\n",
       "        72, 71, 70, 69, 68], dtype=int64),\n",
       " array([19, 18], dtype=int64),\n",
       " array([17, 16], dtype=int64),\n",
       " array([15, 14], dtype=int64),\n",
       " array([13, 12], dtype=int64),\n",
       " array([11, 10], dtype=int64),\n",
       " array([9, 8], dtype=int64),\n",
       " array([7, 6], dtype=int64),\n",
       " array([5, 4], dtype=int64),\n",
       " array([3, 2], dtype=int64),\n",
       " array([1, 0], dtype=int64)]"
      ]
     },
     "execution_count": 19,
     "metadata": {},
     "output_type": "execute_result"
    }
   ],
   "source": [
    "partition"
   ]
  },
  {
   "cell_type": "code",
   "execution_count": 19,
   "metadata": {},
   "outputs": [],
   "source": [
    "requests = np.array([[] for _ in range(np.array(partition).shape[0])])"
   ]
  },
  {
   "cell_type": "code",
   "execution_count": 20,
   "metadata": {},
   "outputs": [
    {
     "data": {
      "text/plain": [
       "array([], shape=(20, 0), dtype=float64)"
      ]
     },
     "execution_count": 20,
     "metadata": {},
     "output_type": "execute_result"
    }
   ],
   "source": [
    "requests"
   ]
  },
  {
   "cell_type": "code",
   "execution_count": 21,
   "metadata": {},
   "outputs": [
    {
     "data": {
      "text/plain": [
       "(20, 5)"
      ]
     },
     "execution_count": 21,
     "metadata": {},
     "output_type": "execute_result"
    }
   ],
   "source": [
    "np.array(partition).shape"
   ]
  },
  {
   "cell_type": "code",
   "execution_count": 68,
   "metadata": {},
   "outputs": [],
   "source": [
    "a = 50\n",
    "\n",
    "all_requests = np.random.pareto(a, (151,))\n",
    "all_requests = (all_requests / np.max(all_requests)) * datasetfile[\"nb_train\"]\n",
    "# Convert to integers\n",
    "all_requests = all_requests.astype(int)\n",
    "# Ensure unique indices\n",
    "#all_requests = np.random.choice(range(range_end), 20, replace=False)\n"
   ]
  },
  {
   "cell_type": "code",
   "execution_count": 77,
   "metadata": {},
   "outputs": [],
   "source": [
    "all_requests = np.random.randint(0, datasetfile[\"nb_train\"], 151) # uniform"
   ]
  },
  {
   "cell_type": "code",
   "execution_count": 78,
   "metadata": {},
   "outputs": [
    {
     "data": {
      "text/plain": [
       "(array([20., 14., 20., 14., 14., 16., 12., 19.,  9., 13.]),\n",
       " array([  185. , 10048.5, 19912. , 29775.5, 39639. , 49502.5, 59366. ,\n",
       "        69229.5, 79093. , 88956.5, 98820. ]),\n",
       " <BarContainer object of 10 artists>)"
      ]
     },
     "execution_count": 78,
     "metadata": {},
     "output_type": "execute_result"
    },
    {
     "data": {
      "image/png": "[encoded data removed]",
      "text/plain": [
       "<Figure size 640x480 with 1 Axes>"
      ]
     },
     "metadata": {},
     "output_type": "display_data"
    }
   ],
   "source": [
    "all_requests\n",
    "import matplotlib.pyplot as plt\n",
    "plt.hist(all_requests) "
   ]
  },
  {
   "cell_type": "code",
   "execution_count": 79,
   "metadata": {},
   "outputs": [],
   "source": [
    "requests = []\n",
    "for shard in range(20):\n",
    "    requests.append(np.intersect1d(partition[shard], all_requests))\n",
    "    "
   ]
  },
  {
   "cell_type": "code",
   "execution_count": 70,
   "metadata": {},
   "outputs": [
    {
     "data": {
      "text/plain": [
       "[array([17315, 17586, 33556], dtype=int64),\n",
       " array([11893, 12082, 12276, 12368], dtype=int64),\n",
       " array([15750, 16320, 16597, 16607, 16650, 22976, 23038, 23533],\n",
       "       dtype=int64),\n",
       " array([22014, 22017, 22242, 22726, 31035], dtype=int64),\n",
       " array([10769, 10871, 11152], dtype=int64),\n",
       " array([15274, 15283, 15398, 15533, 15545, 20548, 20906, 21035, 21293],\n",
       "       dtype=int64),\n",
       " array([13968, 14097, 14348, 14387, 14589, 27621, 27791, 28972, 52507],\n",
       "       dtype=int64),\n",
       " array([ 9911, 10028, 10031, 10355, 10457], dtype=int64),\n",
       " array([19444, 19730, 25575, 25923, 26751], dtype=int64),\n",
       " array([12934, 13142, 13295, 13362, 13442, 17952, 18033, 18306, 18312],\n",
       "       dtype=int64),\n",
       " array([8797, 9012, 9045, 9078, 9308, 9330, 9352, 9533], dtype=int64),\n",
       " array([7647, 7783, 7877, 8257, 8509], dtype=int64),\n",
       " array([6513, 6775, 6948, 7357, 7417], dtype=int64),\n",
       " array([5553, 5622, 5897, 6084, 6120, 6225, 6417, 6495], dtype=int64),\n",
       " array([4463, 4496, 5045, 5046, 5135, 5174, 5278], dtype=int64),\n",
       " array([3506, 3507, 3746, 3828, 3925, 4049, 4059, 4308], dtype=int64),\n",
       " array([2412, 2463, 2465, 2472, 2521, 2660, 2736, 2813, 2856, 2908, 2921,\n",
       "        3045, 3058, 3096, 3097, 3215, 3311, 3326], dtype=int64),\n",
       " array([1379, 1537, 1566, 1695, 1721, 1827, 1828, 1834, 1992, 2016, 2020,\n",
       "        2259, 2391], dtype=int64),\n",
       " array([ 450,  565,  615,  738,  931, 1003, 1081, 1089, 1242, 1247, 1274,\n",
       "        1348], dtype=int64),\n",
       " array([ 92, 117, 224, 238, 286, 304], dtype=int64)]"
      ]
     },
     "execution_count": 70,
     "metadata": {},
     "output_type": "execute_result"
    }
   ],
   "source": [
    "requests"
   ]
  },
  {
   "cell_type": "code",
   "execution_count": 80,
   "metadata": {},
   "outputs": [
    {
     "data": {
      "text/plain": [
       "[array([ 185,  242, 1262, 1302, 1470, 2111, 2542, 3042, 3303, 4938]),\n",
       " array([5004, 5512, 5615, 6675, 7106, 7108, 7291, 8056, 8845, 9123]),\n",
       " array([10263, 12590, 13255, 13442, 13728]),\n",
       " array([15143, 15180, 15424, 16452, 17439, 17847, 17864, 18112, 19801]),\n",
       " array([20210, 20216, 20984, 21074, 21495, 21744, 22547, 23011, 24069,\n",
       "        24114, 24391]),\n",
       " array([25282, 26232, 26397, 27238, 27588, 27813, 28300, 28359, 28533]),\n",
       " array([30525, 30991, 31410, 31691, 32111, 34391]),\n",
       " array([35982, 35995, 36674, 36722, 37256, 38347, 38906, 39527]),\n",
       " array([41327, 41891, 42197, 43859, 44747, 44762]),\n",
       " array([47166, 47429, 47717, 47817, 48351, 48868, 48871, 49093, 49594]),\n",
       " array([50087, 50847, 52590, 53561]),\n",
       " array([55642, 55662, 55837, 56325, 57271, 57282, 57293, 57677, 58594,\n",
       "        59214, 59365]),\n",
       " array([61352, 62055, 62273, 63053, 63058, 63926, 64763, 64996]),\n",
       " array([67323, 68063, 68384, 68771, 69306, 69319]),\n",
       " array([70837, 70963, 71437, 72615, 72816, 73372]),\n",
       " array([75522, 75575, 76598, 76650, 76661, 77286, 77421, 77533, 77661,\n",
       "        77704, 78319]),\n",
       " array([80121, 81543, 84130]),\n",
       " array([85919, 87276, 87639, 87719, 88202, 88245, 89595, 89812, 89845,\n",
       "        89875]),\n",
       " array([90176, 90253, 91029, 94264]),\n",
       " array([97185, 97749, 97773, 98776, 98820])]"
      ]
     },
     "execution_count": 80,
     "metadata": {},
     "output_type": "execute_result"
    }
   ],
   "source": [
    "requests # uniform"
   ]
  },
  {
   "cell_type": "code",
   "execution_count": 81,
   "metadata": {},
   "outputs": [
    {
     "data": {
      "text/plain": [
       "200.0"
      ]
     },
     "execution_count": 81,
     "metadata": {},
     "output_type": "execute_result"
    }
   ],
   "source": [
    "50 * 20/5"
   ]
  },
  {
   "cell_type": "code",
   "execution_count": 86,
   "metadata": {},
   "outputs": [
    {
     "data": {
      "text/plain": [
       "600.0"
      ]
     },
     "execution_count": 86,
     "metadata": {},
     "output_type": "execute_result"
    }
   ],
   "source": [
    "r = 150 * 20 / 5\n",
    "r"
   ]
  },
  {
   "cell_type": "code",
   "execution_count": 13,
   "metadata": {},
   "outputs": [],
   "source": [
    "import numpy as np\n",
    "\n",
    "a = np.load(\"requestfile_10.npy\", allow_pickle = True)"
   ]
  },
  {
   "cell_type": "code",
   "execution_count": 14,
   "metadata": {},
   "outputs": [
    {
     "data": {
      "text/plain": [
       "array([array([ 8407, 21130], dtype=int64),\n",
       "       array([31065, 37221], dtype=int64), array([57717], dtype=int64),\n",
       "       array([94872], dtype=int64), array([110011], dtype=int64),\n",
       "       array([], dtype=int64), array([171979], dtype=int64),\n",
       "       array([195256], dtype=int64), array([203294], dtype=int64),\n",
       "       array([], dtype=int64)], dtype=object)"
      ]
     },
     "execution_count": 14,
     "metadata": {},
     "output_type": "execute_result"
    }
   ],
   "source": [
    "a"
   ]
  },
  {
   "cell_type": "code",
   "execution_count": null,
   "metadata": {},
   "outputs": [],
   "source": []
  }
 ],
 "metadata": {
  "kernelspec": {
   "display_name": "Python 3.7.9 64-bit",
   "language": "python",
   "name": "python3"
  },
  "language_info": {
   "codemirror_mode": {
    "name": "ipython",
    "version": 3
   },
   "file_extension": ".py",
   "mimetype": "text/x-python",
   "name": "python",
   "nbconvert_exporter": "python",
   "pygments_lexer": "ipython3",
   "version": "3.7.9"
  },
  "vscode": {
   "interpreter": {
    "hash": "b87e2cd51b332e875e78bc5c04c193a457a360a306d3c15193138192ba053ee4"
   }
  }
 },
 "nbformat": 4,
 "nbformat_minor": 2
}
