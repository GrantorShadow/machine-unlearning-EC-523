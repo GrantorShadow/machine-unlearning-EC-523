{
  "cells": [
    {
      "cell_type": "code",
      "execution_count": null,
      "metadata": {
        "id": "VyLEoCztSPyY"
      },
      "outputs": [],
      "source": [
        "if args.distribution == \"approach2\":\n",
        "    partition = np.split(\n",
        "        np.arange(0, datasetfile[\"nb_train\"]),\n",
        "        [\n",
        "            t * (datasetfile[\"nb_train\"] // args.shards)\n",
        "            for t in range(1, args.shards)\n",
        "        ],\n",
        "    )\n",
        "    np.save(\"containers/{}/splitfile.npy\".format(args.container), partition)\n",
        "    requests = np.array([[] for _ in range(args.shards)])\n",
        "    np.save(\n",
        "        \"containers/{}/requestfile:{}.npy\".format(args.container, args.label),\n",
        "        requests,\n",
        "    )"
      ]
    },
    {
      "cell_type": "code",
      "execution_count": 18,
      "metadata": {},
      "outputs": [],
      "source": [
        "requestfile = np.load(\"/Users/harshil/Downloads/unlearning/machine-unlearning/containers/20/requestfile:3.npy\", allow_pickle=True)"
      ]
    },
    {
      "cell_type": "code",
      "execution_count": 19,
      "metadata": {},
      "outputs": [
        {
          "name": "stdout",
          "output_type": "stream",
          "text": [
            "[array([], dtype=int64) array([], dtype=int64) array([], dtype=int64)\n",
            " array([], dtype=int64) array([], dtype=int64) array([], dtype=int64)\n",
            " array([], dtype=int64) array([], dtype=int64) array([45711])\n",
            " array([], dtype=int64) array([], dtype=int64) array([], dtype=int64)\n",
            " array([], dtype=int64) array([], dtype=int64) array([], dtype=int64)\n",
            " array([], dtype=int64) array([16642]) array([], dtype=int64)\n",
            " array([188436]) array([], dtype=int64)]\n"
          ]
        }
      ],
      "source": [
        "print(requestfile)"
      ]
    },
    {
      "cell_type": "code",
      "execution_count": 2,
      "metadata": {
        "colab": {
          "base_uri": "https://localhost:8080/",
          "height": 471
        },
        "id": "0jOm1s-UUjIR",
        "outputId": "3dc62638-a83d-42fb-97a4-57cee06cf610"
      },
      "outputs": [],
      "source": [
        "import numpy as np\n",
        "from sklearn.cluster import KMeans\n",
        "import sklearn\n",
        "from sklearn.metrics.pairwise import cosine_similarity\n",
        "data =np.load('purchase2_train.npy', allow_pickle=True)"
      ]
    },
    {
      "cell_type": "code",
      "execution_count": 3,
      "metadata": {
        "id": "P-gwTRE3V7nJ"
      },
      "outputs": [
        {
          "data": {
            "text/plain": [
              "(200, 600)"
            ]
          },
          "execution_count": 3,
          "metadata": {},
          "output_type": "execute_result"
        }
      ],
      "source": [
        "X=data.item()['X']\n",
        "X = X[0:200]\n",
        "X.shape"
      ]
    },
    {
      "cell_type": "code",
      "execution_count": 4,
      "metadata": {},
      "outputs": [
        {
          "data": {
            "text/plain": [
              "array([[1, 0, 0, ..., 1, 1, 1],\n",
              "       [0, 0, 0, ..., 0, 1, 1],\n",
              "       [1, 0, 1, ..., 1, 1, 1],\n",
              "       ...,\n",
              "       [1, 0, 0, ..., 1, 1, 1],\n",
              "       [1, 0, 0, ..., 1, 1, 1],\n",
              "       [1, 0, 0, ..., 1, 1, 1]])"
            ]
          },
          "execution_count": 4,
          "metadata": {},
          "output_type": "execute_result"
        }
      ],
      "source": [
        "X"
      ]
    },
    {
      "cell_type": "code",
      "execution_count": 6,
      "metadata": {},
      "outputs": [],
      "source": []
    },
    {
      "cell_type": "code",
      "execution_count": 7,
      "metadata": {},
      "outputs": [],
      "source": [
        "S = cosine_similarity(X)"
      ]
    },
    {
      "cell_type": "code",
      "execution_count": null,
      "metadata": {},
      "outputs": [],
      "source": [
        "for i in range(N):\n",
        "    "
      ]
    },
    {
      "cell_type": "code",
      "execution_count": 7,
      "metadata": {
        "id": "i6HZDh7fUop6"
      },
      "outputs": [
        {
          "name": "stderr",
          "output_type": "stream",
          "text": [
            "/Users/harshil/Library/Python/3.9/lib/python/site-packages/sklearn/cluster/_kmeans.py:870: FutureWarning: The default value of `n_init` will change from 10 to 'auto' in 1.4. Set the value of `n_init` explicitly to suppress the warning\n",
            "  warnings.warn(\n"
          ]
        }
      ],
      "source": [
        "kmeans = KMeans(n_clusters=20, random_state=0).fit(X)\n",
        "labels= kmeans.labels_"
      ]
    },
    {
      "cell_type": "code",
      "execution_count": 12,
      "metadata": {},
      "outputs": [
        {
          "name": "stdout",
          "output_type": "stream",
          "text": [
            "Number of points in each cluster after balancing: [12460 12460 12460 12460 12460 12460 12460 12460 12460 12460 12460 12460\n",
            " 12460 12460 12460 12460 12460 12460 12460 12460]\n"
          ]
        }
      ],
      "source": [
        "counts = np.bincount(labels)\n",
        "n_clusters=20\n",
        "target_points_per_cluster = len(X) // n_clusters\n",
        "# Balancing cluster sizes\n",
        "for i in range(n_clusters):\n",
        "    excess_points = counts[i] - target_points_per_cluster\n",
        "    if excess_points > 0:\n",
        "        indices = np.where(labels == i)[0]\n",
        "        np.random.shuffle(indices)\n",
        "        labels[indices[:excess_points]] = -1  # Temporary label for reassignment\n",
        "\n",
        "# Reassigning points with temporary label to clusters with fewer points\n",
        "for i in range(n_clusters):\n",
        "    if counts[i] < target_points_per_cluster:\n",
        "        indices = np.where(labels == -1)[0]\n",
        "        np.random.shuffle(indices)\n",
        "        labels[indices[:target_points_per_cluster - counts[i]]] = i\n",
        "\n",
        "# Re-counting the number of points in each cluster\n",
        "counts_after_balance = np.bincount(labels)\n",
        "\n",
        "# Print the number of points in each cluster after balancing\n",
        "#print(\"Number of points in each cluster after balancing:\", counts_after_balance)"
      ]
    },
    {
      "cell_type": "code",
      "execution_count": 13,
      "metadata": {},
      "outputs": [],
      "source": [
        "output=[[] for i in range(20)]\n",
        "for i,l in enumerate(labels):\n",
        "    #print(l)\n",
        "    output[l].append(i)\n"
      ]
    },
    {
      "cell_type": "code",
      "execution_count": 14,
      "metadata": {},
      "outputs": [],
      "source": [
        "output=np.array(output)"
      ]
    },
    {
      "cell_type": "code",
      "execution_count": 67,
      "metadata": {
        "id": "M5KvtpPbVsro"
      },
      "outputs": [
        {
          "name": "stdout",
          "output_type": "stream",
          "text": [
            "Cluster 0: 12680 points\n",
            "Cluster 1: 13550 points\n",
            "Cluster 2: 8362 points\n",
            "Cluster 3: 12352 points\n",
            "Cluster 4: 14146 points\n",
            "Cluster 5: 12547 points\n",
            "Cluster 6: 15520 points\n",
            "Cluster 7: 14675 points\n",
            "Cluster 8: 15678 points\n",
            "Cluster 9: 12652 points\n",
            "Cluster 10: 10267 points\n",
            "Cluster 11: 14183 points\n",
            "Cluster 12: 10762 points\n",
            "Cluster 13: 11217 points\n",
            "Cluster 14: 13092 points\n",
            "Cluster 15: 10465 points\n",
            "Cluster 16: 6930 points\n",
            "Cluster 17: 13736 points\n",
            "Cluster 18: 11863 points\n",
            "Cluster 19: 14538 points\n"
          ]
        }
      ],
      "source": [
        "# Use np.bincount to count occurrences of each label\n",
        "counts = np.bincount(labels)\n",
        "\n",
        "# Print the number of points in each cluster\n",
        "for cluster, count in enumerate(counts):\n",
        "    print(f\"Cluster {cluster}: {count} points\")"
      ]
    },
    {
      "cell_type": "code",
      "execution_count": null,
      "metadata": {},
      "outputs": [],
      "source": []
    }
  ],
  "metadata": {
    "colab": {
      "provenance": []
    },
    "kernelspec": {
      "display_name": "Python 3",
      "name": "python3"
    },
    "language_info": {
      "codemirror_mode": {
        "name": "ipython",
        "version": 3
      },
      "file_extension": ".py",
      "mimetype": "text/x-python",
      "name": "python",
      "nbconvert_exporter": "python",
      "pygments_lexer": "ipython3",
      "version": "3.9.6"
    }
  },
  "nbformat": 4,
  "nbformat_minor": 0
}
